{
 "cells": [
  {
   "cell_type": "code",
   "execution_count": null,
   "metadata": {},
   "outputs": [],
   "source": [
    "import json\n",
    "\n",
    "result = {}\n",
    "dp_stats = [0, 0]\n",
    "with open(\"data.in\", \"r\") as f:\n",
    "\tfor line in f:\n",
    "\t\tif len(line) > 2:\n",
    "\t\t\templid, dp = line.strip().split(\" \")\n",
    "\t\t\tresult[emplid] = 1 if dp == \"Y\" else 0\n",
    "\t\t\tif result[emplid]:\n",
    "\t\t\t\tdp_stats[1] += 1\n",
    "\t\t\telse:\n",
    "\t\t\t\tdp_stats[0] += 1\n",
    "\n",
    "with open(\"data.out\", \"w\") as f:\n",
    "\tjson.dump(result, f)"
   ]
  },
  {
   "cell_type": "code",
   "execution_count": 5,
   "metadata": {},
   "outputs": [
    {
     "name": "stdout",
     "output_type": "stream",
     "text": [
      "DP: 219/232\n",
      "DPR: 13/232\n",
      "94.40% DP Rate\n"
     ]
    }
   ],
   "source": [
    "print(f\"DP: {dp_stats[1]}/{len(result)}\")\n",
    "print(f\"DPR: {dp_stats[0]}/{len(result)}\")\n",
    "print(f\"{dp_stats[1]/len(result)*100:.2f}% DP Rate\")"
   ]
  }
 ],
 "metadata": {
  "kernelspec": {
   "display_name": "Python 3.10.4 64-bit",
   "language": "python",
   "name": "python3"
  },
  "language_info": {
   "codemirror_mode": {
    "name": "ipython",
    "version": 3
   },
   "file_extension": ".py",
   "mimetype": "text/x-python",
   "name": "python",
   "nbconvert_exporter": "python",
   "pygments_lexer": "ipython3",
   "version": "3.10.4"
  },
  "orig_nbformat": 4,
  "vscode": {
   "interpreter": {
    "hash": "a468216b390d8086c6e68ce635f893df89c6726f4c4bec2701d169cb44bcbe63"
   }
  }
 },
 "nbformat": 4,
 "nbformat_minor": 2
}
